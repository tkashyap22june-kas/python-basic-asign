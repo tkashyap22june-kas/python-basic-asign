{
  "cells": [
    {
      "cell_type": "markdown",
      "source": [],
      "metadata": {
        "id": "6xZ_aNHkd0O9"
      }
    },
    {
      "cell_type": "markdown",
      "source": [
        "\n",
        "1 What is Python, and why is it popular ?\n",
        "  - Python is a high-level interpreted a dynamically typed programming language ,it is popular because it widely acepted in the industry and easy to learn and operate.\n",
        "    \n",
        "2 What is an interpreter in Python ?\n",
        "  - python is an interpreted language because of how its code is executed. when we run python program, the python interpreter reads and executes the code line by line when there is error in it stop rather than compiling the entire program .\n",
        "\n",
        "3 What are pre-defined keywords in Python ?\n",
        " - keywords are predefined words that hold a special meaning and have specific purpose in python.\n",
        "\n",
        "4 Can keywords be used as variable names ?\n",
        " - no.\n",
        "\n",
        "5 What is mutability in Python ?\n",
        " - mutability refers to the ability of an object to be modified after it has been created.\n",
        "\n",
        "6 Why are lists mutable, but tuples are immutable ?\n",
        "  - list are mutable because it can be modified but tuples are not be modified and tuples use parenthese.\n",
        "\n",
        "7 What is the difference between “==” and “is” operators in Python ?\n",
        "  - equality operator ==\n",
        "  a == b\n",
        "  and identity operator a is b is operator check for object identity it determines whether two variable refer to exact same object in memory.\n",
        "\n",
        "8 What are logical operators in Python ?\n",
        "   - logical operator is python are used to combine conditional statementnt and evalute expression based on mutiple condition . python has three primary logical opertator.\n",
        "\n",
        "9  What is type casting in Python ?\n",
        "   - type casting in python , it is the process of converting a variable or value from one data type to another   \n",
        "  float - int\n",
        "  int - str\n",
        "\n",
        "10  What is the difference between implicit and explicit type casting ?\n",
        "  - implicit type casting >> python understand the  data type and explict typecasting >> convert data type using input function >> str, int , float, boolen\n",
        "\n",
        "11  What is the purpose of conditional statements in Python ?\n",
        "   - conditional statements is python are fundamental programming constructs that enable program to make a decision and execute specific block of code based on whether certain condition are met they introduce flexibility and control.\n",
        "\n",
        "12 How does the elif statement work ?\n",
        "  - the \"elif\" statement can be used in conditional statement to check for multiple condition , ex- if first condition is false , it move on the next \"elif\" statement to check it that condition is true . if none of the condition is true the code will excute the else statement.\n",
        "\n",
        "13 What is the difference between for and while loops ?\n",
        "   - for loop is used to iterate over a sequence of item , such  as python tupe , list , string or range , The loop will evecute a block of statement for each item in the sequence\n",
        "\n",
        "14 Describe a scenario where a while loop is more suitable than a for loop.\n",
        "  - Imagine you're developing a simple guessing game where the user needs to guess a secret number between 1 and 100.\n",
        "In this scenario, you wouldn't know in advance how many guesses the user will take to arrive at the correct answer. A for loop, designed for a predetermined number of iterations, wouldn't be the most suitable choice here.\n",
        "Instead, a while loop would be ideal because it allows you to repeat a block of code (the guessing and feedback process) as long as a certain condition (the user hasn't guessed the correct number) remains true.\n"
      ],
      "metadata": {
        "id": "AMMKIIIneiG8"
      }
    },
    {
      "cell_type": "code",
      "source": [
        "##  1 Write a Python program to print \"Hello, World!\"\n",
        "print(\"Hello world\")"
      ],
      "metadata": {
        "colab": {
          "base_uri": "https://localhost:8080/"
        },
        "id": "hKestRhEAUqh",
        "outputId": "836e475b-432f-4109-806b-b74ce8a0af0b"
      },
      "execution_count": 2,
      "outputs": [
        {
          "output_type": "stream",
          "name": "stdout",
          "text": [
            "Hello world\n"
          ]
        }
      ]
    },
    {
      "cell_type": "code",
      "source": [
        "## 2 Write a Python program that displays your name and age\n",
        "name = input (\"please enter your name :\")\n",
        "age = int(input(\"please enter your age :\"))\n",
        "print(f\"my name is {name}and my age is {age}\")"
      ],
      "metadata": {
        "colab": {
          "base_uri": "https://localhost:8080/"
        },
        "id": "_yc4YMvGAlNO",
        "outputId": "24db2ee2-174a-4931-8c6c-71df8e13119f"
      },
      "execution_count": 3,
      "outputs": [
        {
          "output_type": "stream",
          "name": "stdout",
          "text": [
            "please enter your name :tushar kashyap\n",
            "please enter your age : 30\n",
            "my name is tushar kashyapand my age is 30\n"
          ]
        }
      ]
    },
    {
      "cell_type": "code",
      "source": [
        "##  3 Write code to print all the pre-defined keywords in Python using the keyword\n",
        "print (\"list of pre-defined keywords in python\")\n",
        "import keyword\n",
        "print(keyword.kwlist)\n"
      ],
      "metadata": {
        "colab": {
          "base_uri": "https://localhost:8080/"
        },
        "id": "ufhTKA3mCJ58",
        "outputId": "3caba3b2-971c-4d6d-e76b-260b6e22d4d8"
      },
      "execution_count": 14,
      "outputs": [
        {
          "output_type": "stream",
          "name": "stdout",
          "text": [
            "list of pre-defined keywords in python\n",
            "['False', 'None', 'True', 'and', 'as', 'assert', 'async', 'await', 'break', 'class', 'continue', 'def', 'del', 'elif', 'else', 'except', 'finally', 'for', 'from', 'global', 'if', 'import', 'in', 'is', 'lambda', 'nonlocal', 'not', 'or', 'pass', 'raise', 'return', 'try', 'while', 'with', 'yield']\n"
          ]
        }
      ]
    },
    {
      "cell_type": "code",
      "source": [
        "## 4 Write a program that checks if a given word is a Python keyword\n",
        "\n",
        "def check_if_keyword(word):\n",
        "  if keyword.iskeyword(word):\n",
        "    print(f\"{word} is a python keyword\")\n",
        "  else:\n",
        "    print(f\"{word} is not a python keyword\")\n",
        "\n",
        "check_if_keyword(\"if\")\n",
        "\n"
      ],
      "metadata": {
        "colab": {
          "base_uri": "https://localhost:8080/"
        },
        "id": "dTP5kpL4KPZR",
        "outputId": "bd203e24-9213-45ca-9e72-853d34831497"
      },
      "execution_count": 34,
      "outputs": [
        {
          "output_type": "stream",
          "name": "stdout",
          "text": [
            "if is a python keyword\n"
          ]
        }
      ]
    },
    {
      "cell_type": "code",
      "source": [
        "## 5  Create a list and tuple in Python, and demonstrate how attempting to change an element works differently\n",
        "## for each.\n",
        "\n",
        "my_list = [10, 20, 30, \"apple\"]\n",
        "print (\"Iniial list : my_list\")\n"
      ],
      "metadata": {
        "colab": {
          "base_uri": "https://localhost:8080/"
        },
        "id": "kCbLlQhORkJg",
        "outputId": "46dd5f8c-11a2-44bd-d0ed-70385c375472"
      },
      "execution_count": 35,
      "outputs": [
        {
          "output_type": "stream",
          "name": "stdout",
          "text": [
            "Iniial list : my_list\n"
          ]
        }
      ]
    },
    {
      "cell_type": "code",
      "source": [
        "my_tuple = (100, 200, 300, \"apple\")\n",
        "print (\"Iniial tuple : my_tuple\")"
      ],
      "metadata": {
        "colab": {
          "base_uri": "https://localhost:8080/"
        },
        "id": "Pq7Vow4sS2vm",
        "outputId": "efd65d1d-4312-4341-e4ec-7d5b62f5fe69"
      },
      "execution_count": 36,
      "outputs": [
        {
          "output_type": "stream",
          "name": "stdout",
          "text": [
            "Iniial tuple : my_tuple\n"
          ]
        }
      ]
    },
    {
      "cell_type": "code",
      "source": [
        "my_list[1] = 0\n",
        "print(\"modified list:\", my_list)"
      ],
      "metadata": {
        "colab": {
          "base_uri": "https://localhost:8080/"
        },
        "id": "6OHFNr88RdrV",
        "outputId": "43ae455c-514a-4c3b-fac8-7aff5a0587ca"
      },
      "execution_count": 40,
      "outputs": [
        {
          "output_type": "stream",
          "name": "stdout",
          "text": [
            "modified list: [10, 0, 30, 'apple']\n"
          ]
        }
      ]
    },
    {
      "cell_type": "code",
      "source": [
        "my_tuple = (100, 200, 300, \"apple\")\n",
        "try:\n",
        "  my_tuple[1] = 0\n",
        "except TypeError as e:\n",
        "  print(\"Error:\", e)"
      ],
      "metadata": {
        "colab": {
          "base_uri": "https://localhost:8080/"
        },
        "id": "CNHFmOROUD6I",
        "outputId": "708bf0c7-b4bf-4025-8753-96809937cfce"
      },
      "execution_count": 5,
      "outputs": [
        {
          "output_type": "stream",
          "name": "stdout",
          "text": [
            "Error: 'tuple' object does not support item assignment\n"
          ]
        }
      ]
    },
    {
      "cell_type": "code",
      "source": [
        "## 6 Write a function to demonstrate the behavior of mutable and immutable arguments\n",
        "\n",
        "def demonstrate_argument_arguments(mutable_list, immutable_int):\n",
        "  \"\"\"Demonstrates the behavior of mutable and immutable arguments in a function.\n",
        "\n",
        "  Args:\n",
        "    mutable_list: A list to demonstrate mutable behavior.\n",
        "    immutable_int: An integer to demonstrate immutable behavior.\n",
        "  \"\"\"\n",
        "  print(f\"inside function: mutable_list = {mutable_list}, immutable_int = {immutable_int}\")\n",
        "\n",
        "  # Modify the mutable list\n",
        "  mutable_list.append(4)\n",
        "\n",
        "  # Attempt to modify the immutable integer (this will create a new object)\n",
        "  immutable_int = immutable_int + 1\n",
        "\n",
        "  print(f\"after modification inside function: mutable_list = {mutable_list}, immutable_int = {immutable_int}\")"
      ],
      "metadata": {
        "id": "Hwikw9wNZxSx"
      },
      "execution_count": 8,
      "outputs": []
    },
    {
      "cell_type": "code",
      "source": [
        "## 7 Write a program that performs basic arithmetic operations on two user-input numbers.\n",
        "def calculate():\n",
        "  while True:\n",
        "    try:\n",
        "      num1_str = input(\"Enter first number: \")\n",
        "      num2_str = input(\"Enter second number: \")\n",
        "\n",
        "      num1 = float(num1_str)\n",
        "      num2 = float(num2_str)\n",
        "\n",
        "      print(f\"{num1} + {num2} = {num1 + num2}\")\n",
        "      print(f\"{num1} - {num2} = {num1 - num2}\")\n",
        "      print(f\"{num1} * {num2} = {num1 * num2}\")\n",
        "      # Add a check to prevent division by zero\n",
        "      if num2 != 0:\n",
        "        print(f\"{num1} / {num2} = {num1 / num2}\")\n",
        "      else:\n",
        "        print(\"Cannot divide by zero!\")\n",
        "\n",
        "      break # Exit the loop after successful calculation\n",
        "\n",
        "    except ValueError:\n",
        "      print(\"Invalid input. Please enter valid numbers.\")\n",
        "    except Exception as e:\n",
        "      print(f\"An error occurred: {e}\")\n",
        "\n",
        "calculate()"
      ],
      "metadata": {
        "colab": {
          "base_uri": "https://localhost:8080/"
        },
        "id": "RL51rICL19mH",
        "outputId": "5e7d3b32-e4fa-4485-80fe-3b710844ff05"
      },
      "execution_count": 11,
      "outputs": [
        {
          "output_type": "stream",
          "name": "stdout",
          "text": [
            "Enter first number: 5\n",
            "Enter second number: 10\n",
            "5.0 + 10.0 = 15.0\n",
            "5.0 - 10.0 = -5.0\n",
            "5.0 * 10.0 = 50.0\n",
            "5.0 / 10.0 = 0.5\n"
          ]
        }
      ]
    },
    {
      "cell_type": "code",
      "source": [
        "## 8  Write a program to demonstrate the use of logical operators.\n",
        "def logical_operator():\n",
        "  while True:\n",
        "    try:\n",
        "      num1_str = input(\"Enter first number: \")\n",
        "      num2_str = input(\"Enter second number: \")\n",
        "\n",
        "      num1 = float(num1_str)\n",
        "      num2 = float(num2_str)\n",
        "\n",
        "      # Demonstrate logical operators\n",
        "      print(f\"{num1} > 5 and {num2} < 10 is {num1 > 5 and num2 < 10}\")\n",
        "      print(f\"{num1} > 5 or {num2} < 10 is {num1 > 5 or num2 < 10}\")\n",
        "      print(f\"not ({num1} > 5) is {not (num1 > 5)}\")\n",
        "\n",
        "      break # Exit the loop after successful demonstration\n",
        "\n",
        "    except ValueError:\n",
        "      print(\"Invalid input. Please enter valid numbers.\")\n",
        "    except Exception as e:\n",
        "      print(f\"An error occurred: {e}\")\n",
        "\n",
        "logical_operator()"
      ],
      "metadata": {
        "colab": {
          "base_uri": "https://localhost:8080/"
        },
        "id": "9A6YCXjv3dPT",
        "outputId": "06b39582-f761-4088-e98e-ac9a5bb0781c"
      },
      "execution_count": 13,
      "outputs": [
        {
          "output_type": "stream",
          "name": "stdout",
          "text": [
            "Enter first number: 5\n",
            "Enter second number: 10\n",
            "5.0 > 5 and 10.0 < 10 is False\n",
            "5.0 > 5 or 10.0 < 10 is False\n",
            "not (5.0 > 5) is True\n"
          ]
        }
      ]
    },
    {
      "cell_type": "code",
      "source": [
        "## 9 Write a Python program to convert user input from string to integer, float, and boolean types.\n",
        "def convert_user_input():\n",
        "  user_string = input(\"Enter a value : \")\n",
        "  try:\n",
        "    converted_int = int(user_string)\n",
        "    converted_float = float(user_string)\n",
        "    converted_bool = bool(user_string) # Note: converting a non-empty string to boolean results in True\n",
        "\n",
        "    print(f\"Original string: {user_string}\")\n",
        "    print(f\"Converted to integer: {converted_int}\")\n",
        "    print(f\"Converted to float: {converted_float}\")\n",
        "    print(f\"Converted to boolean: {converted_bool}\")\n",
        "\n",
        "  except ValueError:\n",
        "    print(\"Error: Could not convert the input to a number (integer or float).\")\n",
        "  except Exception as e:\n",
        "    print(f\"An unexpected error occurred: {e}\")\n",
        "\n",
        "convert_user_input()"
      ],
      "metadata": {
        "colab": {
          "base_uri": "https://localhost:8080/"
        },
        "id": "tj6H-kvT3Ixs",
        "outputId": "59f6f0d1-dbb9-4217-abda-e5c96c207e3a"
      },
      "execution_count": 17,
      "outputs": [
        {
          "output_type": "stream",
          "name": "stdout",
          "text": [
            "Enter a value : k\n",
            "Error: Could not convert the input to a number (integer or float).\n"
          ]
        }
      ]
    },
    {
      "cell_type": "code",
      "source": [
        "## 10  Write code to demonstrate type casting with list elements.\n",
        "def type_casting():\n",
        "  my_list = [\"1\", \"2\", \"3\", \"4.5\"]\n",
        "  print(f\"Original list of strings: {my_list}\")\n",
        "\n",
        "  # Type casting to integers\n",
        "  int_list = [int(item) for item in my_list[:-1]] # Exclude the float string for int conversion\n",
        "  print(f\"List after type casting to integers: {int_list}\")\n",
        "\n",
        "  # Type casting to floats\n",
        "  float_list = [float(item) for item in my_list]\n",
        "  print(f\"List after type casting to floats: {float_list}\")\n",
        "\n",
        "type_casting()"
      ],
      "metadata": {
        "colab": {
          "base_uri": "https://localhost:8080/"
        },
        "id": "uVG5QPI45eiY",
        "outputId": "2c4d09d0-b129-4d44-cf2b-8edc8d8a0874"
      },
      "execution_count": 19,
      "outputs": [
        {
          "output_type": "stream",
          "name": "stdout",
          "text": [
            "Original list of strings: ['1', '2', '3', '4.5']\n",
            "List after type casting to integers: [1, 2, 3]\n",
            "List after type casting to floats: [1.0, 2.0, 3.0, 4.5]\n"
          ]
        }
      ]
    },
    {
      "cell_type": "code",
      "source": [
        "## 11 Write a program that checks if a number is positive, negative, or zero\n",
        "def check_number():\n",
        "  try:\n",
        "    num = float(input(\"Enter a number: \"))\n",
        "    if num > 0:\n",
        "      print(\"The number is positive.\")\n",
        "    elif num < 0:\n",
        "      print(\"The number is negative.\")\n",
        "    else:\n",
        "      print(\"The number is zero.\")\n",
        "  except ValueError:\n",
        "    print(\"Invalid input. Please enter a valid number.\")\n",
        "\n",
        "check_number()"
      ],
      "metadata": {
        "colab": {
          "base_uri": "https://localhost:8080/"
        },
        "id": "ZnnXrR685_Eg",
        "outputId": "fab4e0f2-d358-4142-f455-06d73c3e3ae9"
      },
      "execution_count": 21,
      "outputs": [
        {
          "output_type": "stream",
          "name": "stdout",
          "text": [
            "Enter a number:  6\n",
            "The number is positive.\n"
          ]
        }
      ]
    },
    {
      "cell_type": "code",
      "source": [
        "## 12 Write a for loop to print numbers from 1 to 10\n",
        "for i in range (1 ,11):\n",
        "  print(i)"
      ],
      "metadata": {
        "colab": {
          "base_uri": "https://localhost:8080/"
        },
        "id": "eOviWc-R6tP2",
        "outputId": "3421f8d5-2074-4853-a709-b46b0439aef0"
      },
      "execution_count": 22,
      "outputs": [
        {
          "output_type": "stream",
          "name": "stdout",
          "text": [
            "1\n",
            "2\n",
            "3\n",
            "4\n",
            "5\n",
            "6\n",
            "7\n",
            "8\n",
            "9\n",
            "10\n"
          ]
        }
      ]
    },
    {
      "cell_type": "code",
      "source": [
        "## 13 Write a Python program to find the sum of all even numbers between 1 and 50.\n",
        "sum_0f_evens = 0\n",
        "for num in range(1, 51):\n",
        "  if num % 2 == 0:\n",
        "    sum_0f_evens += num\n",
        "print(f\"The sum of even numbers from 1 to 50 is: {sum_0f_evens}\")"
      ],
      "metadata": {
        "colab": {
          "base_uri": "https://localhost:8080/"
        },
        "id": "__UQN03D7f9Q",
        "outputId": "7e92e149-3863-46f3-9590-81edfc370c6d"
      },
      "execution_count": 23,
      "outputs": [
        {
          "output_type": "stream",
          "name": "stdout",
          "text": [
            "The sum of even numbers from 1 to 50 is: 650\n"
          ]
        }
      ]
    },
    {
      "cell_type": "code",
      "source": [
        "## 14 Write a program to reverse a string using a while loop.\n",
        "def reverse_string(input_string):\n",
        "  reversed_string = \"\"\n",
        "  index = len(input_string) - 1\n",
        "  while index >= 0:\n",
        "    reversed_string += input_string[index]\n",
        "    index -= 1\n",
        "  return reversed_string"
      ],
      "metadata": {
        "id": "U8lvh5Zn8L6Q"
      },
      "execution_count": 25,
      "outputs": []
    },
    {
      "cell_type": "code",
      "source": [
        "##  15 Write a Python program to calculate the factorial of a number provided by the user using a while loop.\n",
        "def calculate_factorial_while(number):\n",
        "  \"\"\"Calculates the factorial of a non-negative integer using a while loop.\n",
        "\n",
        "  Args:\n",
        "    number: The non-negative integer for which to calculate the factorial.\n",
        "\n",
        "  Returns:\n",
        "    The factorial of the number, or None if the number is negative.\n",
        "  \"\"\"\n",
        "  if number < 0:\n",
        "    print(\"Factorial is not defined for negative numbers.\")\n",
        "    return None\n",
        "  elif number == 0:\n",
        "    return 1\n",
        "  else:\n",
        "    factorial = 1\n",
        "    i = 1\n",
        "    while i <= number:\n",
        "      factorial *= i\n",
        "      i += 1\n",
        "    return factorial\n",
        "\n",
        "# Get input from the user\n",
        "try:\n",
        "  num_input = int(input(\"Enter a non-negative integer to calculate its factorial: \"))\n",
        "  result = calculate_factorial_while(num_input)\n",
        "  if result is not None:\n",
        "    print(f\"The factorial of {num_input} is {result}\")\n",
        "except ValueError:\n",
        "  print(\"Invalid input. Please enter an integer.\")"
      ],
      "metadata": {
        "colab": {
          "base_uri": "https://localhost:8080/"
        },
        "id": "bFor22So81jT",
        "outputId": "3730e9eb-7903-4176-a85e-e51b6372ecca"
      },
      "execution_count": 27,
      "outputs": [
        {
          "output_type": "stream",
          "name": "stdout",
          "text": [
            "Enter a non-negative integer to calculate its factorial: 6\n",
            "The factorial of 6 is 720\n"
          ]
        }
      ]
    }
  ],
  "metadata": {
    "colab": {
      "provenance": []
    },
    "kernelspec": {
      "display_name": "Python 3",
      "name": "python3"
    }
  },
  "nbformat": 4,
  "nbformat_minor": 0
}